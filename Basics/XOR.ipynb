{
 "cells": [
  {
   "cell_type": "markdown",
   "metadata": {},
   "source": [
    "### numpy ###"
   ]
  },
  {
   "cell_type": "code",
   "execution_count": 2,
   "metadata": {},
   "outputs": [
    {
     "name": "stdout",
     "output_type": "stream",
     "text": [
      "Predictions:\n",
      "[0 0] XOR: 0.0103\n",
      "[0 1] XOR: 0.9913\n",
      "[1 0] XOR: 0.9893\n",
      "[1 1] XOR: 0.0091\n"
     ]
    }
   ],
   "source": [
    "import numpy as np\n",
    "\n",
    "class Model:\n",
    "    def __init__(self):\n",
    "        # Initialize weights and biases\n",
    "        self.W1 = np.random.randn(2, 4)\n",
    "        self.b1 = np.zeros((1, 4))\n",
    "        self.W2 = np.random.randn(4, 1)\n",
    "        self.b2 = np.zeros((1, 1))\n",
    "\n",
    "    def sigmoid(self, x):\n",
    "        return 1 / (1 + np.exp(-x))\n",
    "\n",
    "    def sigmoid_derivative(self, x):\n",
    "        return x * (1 - x)\n",
    "    \n",
    "    def forward(self, X):\n",
    "        # Hidden layer\n",
    "        self.z1 = np.dot(X, self.W1) + self.b1\n",
    "        self.a1 = self.sigmoid(self.z1)\n",
    "        \n",
    "        # Output layer\n",
    "        self.z2 = np.dot(self.a1, self.W2) + self.b2\n",
    "        self.a2 = self.sigmoid(self.z2)\n",
    "        \n",
    "        return self.a2\n",
    "\n",
    "    def backward(self, X, y, output):\n",
    "        # Output layer error\n",
    "        self.output_error = y - output\n",
    "        self.output_delta = self.output_error * self.sigmoid_derivative(output)\n",
    "        \n",
    "        # Hidden layer error\n",
    "        self.hidden_error = np.dot(self.output_delta, self.W2.T)\n",
    "        self.hidden_delta = self.hidden_error * self.sigmoid_derivative(self.a1)\n",
    "        \n",
    "        # Update weights and biases\n",
    "        self.W2 += np.dot(self.a1.T, self.output_delta)\n",
    "        self.b2 += np.sum(self.output_delta, axis=0, keepdims=True)\n",
    "        self.W1 += np.dot(X.T, self.hidden_delta)\n",
    "        self.b1 += np.sum(self.hidden_delta, axis=0, keepdims=True)\n",
    "\n",
    "    def train(self, X, y, epochs=10000):\n",
    "        for _ in range(epochs):\n",
    "            output = self.forward(X)\n",
    "            self.backward(X, y, output)\n",
    "\n",
    "# XOR training data\n",
    "X = np.array([[0, 0], [0, 1], [1, 0], [1, 1]])\n",
    "y = np.array([[0], [1], [1], [0]])\n",
    "\n",
    "# Train and test the network\n",
    "network = Model()\n",
    "network.train(X, y)\n",
    "\n",
    "# Test predictions\n",
    "print(\"Predictions:\")\n",
    "for i in range(len(X)):\n",
    "    prediction = network.forward(X[i].reshape(1, 2))\n",
    "    print(f\"{X[i]} XOR: {prediction[0][0]:.4f}\")"
   ]
  },
  {
   "cell_type": "markdown",
   "metadata": {},
   "source": [
    "### pytorch ###"
   ]
  },
  {
   "cell_type": "code",
   "execution_count": 3,
   "metadata": {},
   "outputs": [
    {
     "name": "stdout",
     "output_type": "stream",
     "text": [
      "Using device: cuda\n",
      "\n",
      "Predictions:\n",
      "[0. 0.] XOR: 0.0001\n",
      "[0. 1.] XOR: 0.9995\n",
      "[1. 0.] XOR: 0.9997\n",
      "[1. 1.] XOR: 0.0006\n"
     ]
    }
   ],
   "source": [
    "import torch\n",
    "import torch.nn as nn\n",
    "import torch.optim as optim\n",
    "\n",
    "class PyTorchXORNetwork(nn.Module):\n",
    "    def __init__(self):\n",
    "        super().__init__()\n",
    "        self.hidden = nn.Sequential(\n",
    "            nn.Linear(2, 4),\n",
    "            nn.Sigmoid()\n",
    "        )\n",
    "        self.output = nn.Sequential(\n",
    "            nn.Linear(4, 1),\n",
    "            nn.Sigmoid()\n",
    "        )\n",
    "\n",
    "    def forward(self, x):\n",
    "        hidden = self.hidden(x)\n",
    "        return self.output(hidden)\n",
    "\n",
    "# Check CUDA availability\n",
    "device = torch.device('cuda' if torch.cuda.is_available() else 'cpu')\n",
    "print(f\"Using device: {device}\")\n",
    "\n",
    "# XOR training data\n",
    "X = torch.tensor([[0, 0], [0, 1], [1, 0], [1, 1]], dtype=torch.float32, device=device)\n",
    "y = torch.tensor([[0], [1], [1], [0]], dtype=torch.float32, device=device)\n",
    "\n",
    "# Initialize network\n",
    "model = PyTorchXORNetwork().to(device)\n",
    "criterion = nn.MSELoss()\n",
    "optimizer = optim.Adam(model.parameters(), lr=0.1)\n",
    "\n",
    "# Training loop\n",
    "for epoch in range(10000):\n",
    "    # Forward pass\n",
    "    outputs = model(X)\n",
    "    loss = criterion(outputs, y)\n",
    "    \n",
    "    # Backward pass and optimize\n",
    "    optimizer.zero_grad()\n",
    "    loss.backward()\n",
    "    optimizer.step()\n",
    "\n",
    "# Test predictions\n",
    "print(\"\\nPredictions:\")\n",
    "with torch.no_grad():\n",
    "    for i in range(len(X)):\n",
    "        prediction = model(X[i].reshape(1, 2))\n",
    "        print(f\"{X[i].cpu().numpy()} XOR: {prediction.item():.4f}\")"
   ]
  }
 ],
 "metadata": {
  "kernelspec": {
   "display_name": "Python 3",
   "language": "python",
   "name": "python3"
  },
  "language_info": {
   "codemirror_mode": {
    "name": "ipython",
    "version": 3
   },
   "file_extension": ".py",
   "mimetype": "text/x-python",
   "name": "python",
   "nbconvert_exporter": "python",
   "pygments_lexer": "ipython3",
   "version": "3.13.2"
  }
 },
 "nbformat": 4,
 "nbformat_minor": 2
}
